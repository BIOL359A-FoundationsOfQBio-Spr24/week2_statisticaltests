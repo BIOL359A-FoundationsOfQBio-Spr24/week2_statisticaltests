{
 "cells": [
  {
   "cell_type": "markdown",
   "metadata": {},
   "source": [
    "# Biol 359A | Statistical tests and comparing data\n",
    "\n",
    "### Spring 2024, Week 2\n",
    "\n",
    "Objectives:\n",
    "- Run and interpret a t-test\n",
    "- Understand p-values and common pitfalls\n",
    "- Gain intuition about statistical tests and sample sizes"
   ]
  },
  {
   "cell_type": "markdown",
   "metadata": {},
   "source": [
    "### Import statements"
   ]
  },
  {
   "cell_type": "markdown",
   "metadata": {},
   "source": [
    "The packages used are as follows\n",
    "- `pandas` provides dataframes for data storage and manipulation\n",
    "- `ipywidgets` provides dynamic notebook widgets (like sliders)\n",
    "- `scipy` us a general scientific computing package\n",
    "- `numpy` is a general math/matrices package\n",
    "- `matplotlib` Provides data visualization functionality\n",
    "- `seaborn`: Data exploration visualization tool"
   ]
  },
  {
   "cell_type": "code",
   "execution_count": null,
   "metadata": {},
   "outputs": [],
   "source": [
    "import pandas as pd\n",
    "import numpy as np\n",
    "import matplotlib.pyplot as plt\n",
    "import ipywidgets as widgets\n",
    "import scipy.stats as stats\n",
    "import seaborn as sns"
   ]
  },
  {
   "cell_type": "markdown",
   "metadata": {},
   "source": [
    "ASSIGNMENT QUESTION:\n",
    "- Please answer question 14 in the assignment."
   ]
  },
  {
   "cell_type": "markdown",
   "metadata": {},
   "source": [
    "## Hypothesis Testing Overview:\n",
    "\n",
    "Hypothesis testing is a method used to decide whether there is enough evidence to reject the null hypothesis.\n",
    "\n",
    "### Key Concepts and Steps:\n",
    "\n",
    "1. **Null Hypothesis ($H_0$):** This is our starting assumption, which typically suggests no effect or no difference. In mathematical terms, we express it as $H_0: \\bar{X} = \\mu$, where $\\bar{X}$ is the sample mean, and $\\mu$ is the population mean we're comparing to.\n",
    "\n",
    "2. **Alternative Hypothesis ($H_a$):** This represents the alternative belief, essentially what we suspect might be true instead of the null hypothesis. It's expressed as $H_A: \\bar{X} \\neq \\mu$ for a two-sided test, or $H_A: \\bar{X} > \\mu$ or $H_A: \\bar{X} < \\mu$ for one-sided tests. This hypothesis suggests there is an effect or a difference.\n",
    "\n",
    "3. **Test Statistic:** A numerical value calculated from the sample data, used to decide whether to reject H₀. It measures how far the observed data diverges from the null hypothesis.\n",
    "\n",
    "4. **Null Distribution:** This is the probability distribution of the test statistic under the assumption that the null hypothesis is true.\n",
    "\n",
    "5. **P-value:** The p-value is the probability of observing a test statistic as extreme as, or more extreme than, the observed result, under the assumption that the null hypothesis is true. It quantifies how unusual our data is if $H_0$ were true. A low p-value indicates that such data would be very unlikely under the null hypothesis, suggesting evidence against $H_0$.\n",
    "\n",
    "6. **Significance Level (α):** Before conducting the test, we choose a significance level (often 0.05), which is the threshold used to decide whether the p-value is low enough to reject the null hypothesis. If the p-value is less than $\\alpha$, we reject $H_0$, concluding that our results are statistically significant.\n"
   ]
  },
  {
   "cell_type": "markdown",
   "metadata": {},
   "source": [
    "In hypothesis testing, the choice of test hinges on the comparison you're making (e.g., group differences, variable relationships, time changes) and your data's characteristics (distribution type, independence, measurement scale, sample size). Two common tests to assess mean similarity are Student's t-test and Welch's t-test"
   ]
  },
  {
   "cell_type": "markdown",
   "metadata": {},
   "source": [
    "#### Student's t-test:\n",
    "\n",
    "The Student's t-test is used to compare the means of two groups to see if they are statistically different from each other. It assumes that the two samples are independently and randomly drawn, the data is continuous and approximately normally distributed, and the two populations have equal variances.\n",
    "\n",
    "- **Equation:** The test statistic for the Student's t-test is calculated as:\n",
    "\n",
    "  $$t = \\frac{\\bar{x}_1 - \\bar{x}_2}{s_p\\sqrt{\\frac{2}{n}}}$$\n",
    "\n",
    "  where $\\bar{x}_1$ and $\\bar{x}_2$ are the sample means, $s_p$ is the pooled standard deviation, and $n$ is the sample size (assuming equal size for simplicity).\n",
    "\n",
    "- **Types of Student's t-test:**\n",
    "  - **Independent samples t-test:** Compares the means of two independent groups.\n",
    "  - **Paired sample t-test:** Compares means from the same group at different times or under different conditions.\n",
    "  \n",
    "- **Null Distribution:** The test statistic follows a Student's t-distribution under the null hypothesis. The Student's t-distribution is similar to the normal distribution but with heavier tails. The shape of the t-distribution is determined by its degrees of freedom (df), which is typically the sample size - 1. With fewer degrees of freedom (smaller sample sizes), the t-distribution has heavier tails, indicating a higher probability of values further from the mean, reflecting the increased uncertainty in estimates from smaller samples. See the plot of the Student's t-distribution for different degrees of freedom plotted below."
   ]
  },
  {
   "cell_type": "code",
   "execution_count": null,
   "metadata": {},
   "outputs": [],
   "source": [
    "# Define the degrees of freedom\n",
    "dfs = [1, 5, 10, 30]\n",
    "\n",
    "# Plot t-distributions with different degrees of freedom\n",
    "x = np.linspace(-4, 4, 1000)\n",
    "plt.figure(figsize=(8, 5))\n",
    "\n",
    "for df in dfs:\n",
    "    plt.plot(x, stats.t.pdf(x, df), label=f't-distribution (df={df})')\n",
    "\n",
    "# Plot the standard normal distribution for comparison\n",
    "plt.plot(x, stats.norm.pdf(x), 'k--', linewidth=2, label='Normal distribution')\n",
    "\n",
    "plt.title('Comparison of Student\\'s t-Distributions and Normal Distribution')\n",
    "plt.xlabel('Value')\n",
    "plt.ylabel('Probability Density')\n",
    "plt.legend()\n",
    "plt.grid(True)\n",
    "plt.show()\n"
   ]
  },
  {
   "cell_type": "markdown",
   "metadata": {},
   "source": [
    "ASSIGNMENT QUESTION\n",
    "- Please answer question 15 in the assignment."
   ]
  },
  {
   "cell_type": "markdown",
   "metadata": {},
   "source": [
    "#### Welch's t-test:\n",
    "\n",
    "Welch's t-test is an adaptation of the Student's t-test intended for use when the two samples have potentially unequal variances (heteroscedasticity). Like the Student's t-test, it compares the means of two groups but does not assume equal population variances, making it more reliable when this assumption is violated.\n",
    "\n",
    "- **Equation:** The test statistic for Welch's t-test is calculated as:\n",
    "\n",
    "  $$t = \\frac{\\bar{x}_1 - \\bar{x}_2}{\\sqrt{\\frac{s_1^2}{n_1} + \\frac{s_2^2}{n_2}}}$$\n",
    "\n",
    "  where $\\bar{x}_1$ and $\\bar{x}_2$ are the sample means, $s_1$ and $s_2$ are the sample variances, and $n_1$ and $n_2$ are the sample sizes.\n",
    "\n",
    "- **Null Distribution:** The test statistic follows an approximate t-distribution with degrees of freedom calculated using the Welch–Satterthwaite equation. This equation approximates the degrees of freedom between two samples with unequal variances. Given variances $s_1^2$ and $s_2^2$ and sample sizes $n_1$ and $n_2$, the degrees of freedom ($df$) are calculated as:\n",
    "\n",
    "$$df = \\frac{\\left(\\frac{s_1^2}{n_1} + \\frac{s_2^2}{n_2}\\right)^2}{\\frac{\\left(\\frac{s_1^2}{n_1}\\right)^2}{n_1 - 1} + \\frac{\\left(\\frac{s_2^2}{n_2}\\right)^2}{n_2 - 1}}$$\n",
    "\n",
    "The plot below shows Welch's T-distributions calculated for samples with varying sample sizes and variances."
   ]
  },
  {
   "cell_type": "code",
   "execution_count": null,
   "metadata": {},
   "outputs": [],
   "source": [
    "# Setting up scenarios for the most extreme differences in Welch's t-distributions possible\n",
    "scenarios = [\n",
    "    {'n1': 500, 's1': 100, 'n2': 3, 's2': 1}, \n",
    "    {'n1': 300, 's1': 2, 'n2': 2, 's2': 50},\n",
    "    {'n1': 4, 's1': 100, 'n2': 4, 's2': 100}    # Very small groups with very large variances\n",
    "]\n",
    "\n",
    "# Define the range for the plots\n",
    "x = np.linspace(-4, 4, 1000)\n",
    "\n",
    "# Plotting with the most extreme differences\n",
    "plt.figure(figsize=(12, 8))\n",
    "\n",
    "for scenario in scenarios:\n",
    "    n1, s1, n2, s2 = scenario['n1'], scenario['s1'], scenario['n2'], scenario['s2']\n",
    "    # Calculate degrees of freedom using the Welch-Satterthwaite equation\n",
    "    df = (s1**2/n1 + s2**2/n2)**2 / ((s1**2/n1)**2/(n1-1) + (s2**2/n2)**2/(n2-1))\n",
    "    plt.plot(x, stats.t.pdf(x, df), label=f'df={df:.2f} (n1={n1}, s1={s1}, n2={n2}, s2={s2})')\n",
    "\n",
    "# Plotting a standard normal distribution for comparison\n",
    "plt.plot(x, stats.norm.pdf(x), 'k--', label='Normal Distribution')\n",
    "\n",
    "plt.title('Comparison of Welch\\'s t-Distributions and Normal Distribution')\n",
    "plt.xlabel('Value')\n",
    "plt.ylabel('Probability Density')\n",
    "plt.legend()\n",
    "plt.grid(True)\n",
    "plt.show()\n",
    "\n"
   ]
  },
  {
   "cell_type": "markdown",
   "metadata": {},
   "source": [
    "**Key Difference:** The primary distinction between Welch's and the Student's t-test lies in the handling of variance. Welch's test adjusts the degrees of freedom based on the sample data, providing a more accurate p-value when variances are unequal."
   ]
  },
  {
   "cell_type": "markdown",
   "metadata": {},
   "source": [
    "ASSIGNMENT QUESTION\n",
    "- Please answer questions 16 and 17 in the assignment."
   ]
  },
  {
   "cell_type": "markdown",
   "metadata": {},
   "source": [
    "## Exploring real data"
   ]
  },
  {
   "cell_type": "markdown",
   "metadata": {},
   "source": [
    "For today's lesson we will be working on real breast cancer data from the[ Wisconsin Diagnostic Breast Cancer Database (WDBC)](https://archive.ics.uci.edu/dataset/17/breast+cancer+wisconsin+diagnostic).\n",
    "\n",
    "Here is a summary of the data from the data source:\n",
    "```\n",
    "\tFeatures are computed from a digitized image of a fine needle\n",
    "\taspirate (FNA) of a breast mass.  They describe\n",
    "\tcharacteristics of the cell nuclei present in the image.\n",
    "\tA few of the images can be found at\n",
    "\thttp://www.cs.wisc.edu/~street/images/\n",
    "\n",
    "\tSeparating plane described above was obtained using\n",
    "\tMultisurface Method-Tree (MSM-T) [K. P. Bennett, \"Decision Tree\n",
    "\tConstruction Via Linear Programming.\" Proceedings of the 4th\n",
    "\tMidwest Artificial Intelligence and Cognitive Science Society,\n",
    "\tpp. 97-101, 1992], a classification method which uses linear\n",
    "\tprogramming to construct a decision tree.  Relevant features\n",
    "\twere selected using an exhaustive search in the space of 1-4\n",
    "\tfeatures and 1-3 separating planes.\n",
    "\n",
    "\tThe actual linear program used to obtain the separating plane\n",
    "\tin the 3-dimensional space is that described in:\n",
    "\t[K. P. Bennett and O. L. Mangasarian: \"Robust Linear\n",
    "\tProgramming Discrimination of Two Linearly Inseparable Sets\",\n",
    "\tOptimization Methods and Software 1, 1992, 23-34].\n",
    "\n",
    "\tThis database is also available through the UW CS ftp server:\n",
    "\tftp ftp.cs.wisc.edu\n",
    "\tcd math-prog/cpo-dataset/machine-learn/WDBC/\n",
    "    \n",
    "    Source:\n",
    "    W.N. Street, W.H. Wolberg and O.L. Mangasarian \n",
    "\tNuclear feature extraction for breast tumor diagnosis.\n",
    "\tIS&T/SPIE 1993 International Symposium on Electronic Imaging: Science\n",
    "\tand Technology, volume 1905, pages 861-870, San Jose, CA, 1993.\n",
    "```\n",
    "\n",
    "What do all the column names mean?\n",
    "\n",
    "- ID number\n",
    "- Diagnosis (M = malignant, B = benign)\n",
    "\n",
    "Ten real-valued features are computed for each cell nucleus:\n",
    "\n",
    "- radius (mean of distances from center to points on the perimeter)\n",
    "- texture (standard deviation of gray-scale values)\n",
    "- perimeter\n",
    "- area\n",
    "- smoothness (local variation in radius lengths)\n",
    "- compactness (perimeter^2 / area - 1.0)\n",
    "- concavity (severity of concave portions of the contour)\n",
    "- concave points (number of concave portions of the contour)\n",
    "- symmetry \n",
    "- fractal dimension (\"coastline approximation\" - 1) - a measure of \"complexity\" of a 2D image.\n",
    "\n",
    "\n",
    "Cateogory Distribution: 357 benign, 212 malignant"
   ]
  },
  {
   "cell_type": "markdown",
   "metadata": {},
   "source": [
    "We will import and clean these data using another python script called clean_data.py. That script loads the data into a pandas dataframe and removes part of the dataset we will not be using:"
   ]
  },
  {
   "cell_type": "code",
   "execution_count": null,
   "metadata": {},
   "outputs": [],
   "source": [
    "import clean_data\n",
    "\n",
    "cancer_dataset = clean_data.generate_clean_dataframe()\n",
    "cancer_dataset"
   ]
  },
  {
   "cell_type": "markdown",
   "metadata": {},
   "source": [
    "We can now use pandas dataframe functions to explore the data."
   ]
  },
  {
   "cell_type": "markdown",
   "metadata": {},
   "source": [
    "If we want to show the first five values in some column in the table:"
   ]
  },
  {
   "cell_type": "code",
   "execution_count": null,
   "metadata": {},
   "outputs": [],
   "source": [
    "cancer_dataset[\"mean_area\"].head(5)"
   ]
  },
  {
   "cell_type": "markdown",
   "metadata": {},
   "source": [
    "If we want to show the first five values for each diagnosis category:"
   ]
  },
  {
   "cell_type": "code",
   "execution_count": null,
   "metadata": {},
   "outputs": [],
   "source": [
    "cancer_dataset[\"mean_area\"].groupby(\"diagnosis\").head(5)"
   ]
  },
  {
   "cell_type": "markdown",
   "metadata": {},
   "source": [
    "We can use the `pandas` package for calculating summary statistics:"
   ]
  },
  {
   "cell_type": "code",
   "execution_count": null,
   "metadata": {},
   "outputs": [],
   "source": [
    "cancer_dataset[\"mean_area\"].describe()"
   ]
  },
  {
   "cell_type": "markdown",
   "metadata": {},
   "source": [
    "## Formulating hypotheses"
   ]
  },
  {
   "cell_type": "markdown",
   "metadata": {},
   "source": [
    "To further our understanding of cancer, we aim to identify which characteristics, or features, of cell nuclei differ significantly between cancerous (malignant) and healthy (benign) tissue. Insight into these distinctions could enhance diagnostic techniques and/or generate hypotheses regarding the onset and advancement of cancer.\n",
    "\n",
    "The following Python code generates box plots to compare the distributions of various measured nuclear features between malignant and benign cells. Box plots are invaluable for such comparisons because they succinctly summarize data distributions. Here's a brief guide to understanding the components of a box plot:\n",
    "\n",
    "- The Box: Represents the interquartile range (IQR), capturing the middle 50 percent of the data. The bottom and top of the box mark the first (Q1) and third (Q3) quartiles, respectively, and the line inside the box identifies the median.\n",
    "- The Whiskers: Extend from the box to show the range of the data, adjusted for potential outliers. Typically, they span from Q1 - 1.5IQR to Q3 + 1.5IQR.\n",
    "- Outliers: Here depicted as circles, these points lie outside the range covered by the whiskers, indicating data points that are unusually high or low.\n",
    "- The Diamond: Represents the mean of the data, providing a point of central tendency.\n",
    "\n",
    "By selecting different features from the dropdown menu, you can explore the distribution of data for each nuclear characteristic across malignant and benign cells. This visual exploration can reveal how certain nuclear features vary between cancerous and non-cancerous cells, potentially highlighting factors critical to the diagnosis or understanding of cancer."
   ]
  },
  {
   "cell_type": "code",
   "execution_count": null,
   "metadata": {},
   "outputs": [],
   "source": [
    "cancer_dataset_reset = cancer_dataset.reset_index()\n",
    "cancer_dataset_reset.columns = ['ID', 'Diagnosis'] + list(cancer_dataset_reset.columns[2:])\n",
    "\n",
    "def plot_column(column):\n",
    "    # Define colors for consistent use in plots\n",
    "    colors = {'B': 'skyblue', 'M': 'salmon'}\n",
    "    \n",
    "    # Calculate summary statistics for each diagnosis\n",
    "    ordered_diagnoses = ['M', 'B'] \n",
    "    stats_df = cancer_dataset_reset.groupby('Diagnosis')[column].describe().reindex(ordered_diagnoses)\n",
    "    \n",
    "    # Plotting\n",
    "    plt.figure(figsize=(10, 4))\n",
    "    \n",
    "    # Plot boxplot\n",
    "        # Plot boxplot\n",
    "    sns.boxplot(y='Diagnosis', x=column, hue='Diagnosis', data=cancer_dataset_reset, orient='h', palette=colors, dodge=False)\n",
    "    plt.title(f'Box plot of {column} by Diagnosis')\n",
    "    plt.ylabel('Diagnosis')\n",
    "    plt.xlabel(column)\n",
    "\n",
    "    # Plot the mean as a black diamond ('D')\n",
    "    means = cancer_dataset_reset.groupby('Diagnosis')[column].mean().reindex(ordered_diagnoses)\n",
    "    for diagnosis, mean in means.items():\n",
    "        y_pos = ordered_diagnoses.index(diagnosis)\n",
    "        plt.plot(mean, y_pos, 'D', color='black', markersize=3)\n",
    "    \n",
    "    # Display summary statistics table below the boxplot\n",
    "    table_ax = plt.table(cellText=stats_df.round(2).values,\n",
    "                         colLabels=stats_df.columns,\n",
    "                         rowLabels=stats_df.index,\n",
    "                         cellLoc='center', rowLoc='center',\n",
    "                         loc='bottom', bbox=[0, -0.5, 1, 0.3])\n",
    "    plt.subplots_adjust(left=0.2, bottom=0.2)\n",
    "    \n",
    "    plt.show()\n",
    "\n",
    "# Create a dropdown menu for selecting the column to plot\n",
    "dropdown_columns = widgets.Dropdown(\n",
    "    options=[col for col in cancer_dataset_reset.columns if col not in ['ID', 'Diagnosis']],\n",
    "    description='Column:',\n",
    "    disabled=False,\n",
    ")\n",
    "\n",
    "# Display the dropdown and plot the selected column\n",
    "_ = widgets.interact(plot_column, column=dropdown_columns)\n"
   ]
  },
  {
   "cell_type": "markdown",
   "metadata": {},
   "source": [
    "ASSIGNMENT QUESTION:\n",
    "- Please answer question 18 in the assignment."
   ]
  },
  {
   "cell_type": "markdown",
   "metadata": {},
   "source": [
    "### Student's T-Test vs Welch's T-Test"
   ]
  },
  {
   "cell_type": "markdown",
   "metadata": {},
   "source": [
    "The code below allows you to select a nuclear characteristic and see both box plots and the probability density distributions of that characteristic for malignant and benign cells. Below these visualizations is the p-value for that characteristic calculated using both Student's t-test and Welch's t-test."
   ]
  },
  {
   "cell_type": "code",
   "execution_count": null,
   "metadata": {},
   "outputs": [],
   "source": [
    "cancer_dataset_reset = cancer_dataset.reset_index()\n",
    "cancer_dataset_reset.columns = ['ID', 'Diagnosis'] + list(cancer_dataset_reset.columns[2:])\n",
    "\n",
    "def plot_column(column):\n",
    "    # Define colors for consistent use in plots\n",
    "    colors = {'B': 'skyblue', 'M': 'salmon'}\n",
    "    \n",
    "    # Setup the figure and axes for the two plots\n",
    "    fig, axes = plt.subplots(2, 1, figsize=(8, 6), sharex=True, gridspec_kw={'height_ratios': [2, 1]})\n",
    "    \n",
    "    # Plot probability density functions on the first subplot\n",
    "    for diagnosis in ['M', 'B']:\n",
    "        subset = cancer_dataset_reset[cancer_dataset_reset['Diagnosis'] == diagnosis]\n",
    "        sns.kdeplot(data=subset, x=column, ax=axes[0], fill=True, alpha=0.5, linewidth=2, label=diagnosis, color=colors[diagnosis])\n",
    "    axes[0].legend(['Malignant', 'Benign'])\n",
    "    axes[0].set_title(f'Probability Density of {column}')\n",
    "    \n",
    "    # Perform Student's t-test\n",
    "    t_statistic_student, p_value_student = stats.ttest_ind(\n",
    "        cancer_dataset_reset[cancer_dataset_reset['Diagnosis'] == 'M'][column],\n",
    "        cancer_dataset_reset[cancer_dataset_reset['Diagnosis'] == 'B'][column],\n",
    "        equal_var=True\n",
    "    )\n",
    "    \n",
    "    # Perform Welch's t-test\n",
    "    t_statistic_welch, p_value_welch = stats.ttest_ind(\n",
    "        cancer_dataset_reset[cancer_dataset_reset['Diagnosis'] == 'M'][column],\n",
    "        cancer_dataset_reset[cancer_dataset_reset['Diagnosis'] == 'B'][column],\n",
    "        equal_var=False\n",
    "    )\n",
    "    \n",
    "    # Plot boxplot\n",
    "    sns.boxplot(y='Diagnosis', x=column, hue='Diagnosis', data=cancer_dataset_reset, orient='h', ax=axes[1], palette=colors, dodge=False)\n",
    "    axes[1].set_title(f'Box Plot of {column} by Diagnosis')\n",
    "    # Plot the mean as a black diamond ('D')\n",
    "    ordered_diagnoses = ['M', 'B'] \n",
    "    means = cancer_dataset_reset.groupby('Diagnosis')[column].mean().reindex(ordered_diagnoses)\n",
    "    for diagnosis, mean in means.items():\n",
    "        y_pos = ordered_diagnoses.index(diagnosis)\n",
    "        plt.plot(mean, y_pos, 'D', color='black', markersize=3)\n",
    "    \n",
    "    # Display p-values at the bottom of the plot\n",
    "    p_value_text = f\"Student's t-test p-value: {p_value_student:.3e}\\nWelch's t-test p-value: {p_value_welch:.3e}\"\n",
    "    plt.figtext(0.5, -0.05, p_value_text, fontsize=10, ha='center', va='center', bbox=dict(facecolor='lightgray', alpha=0.5))\n",
    "    \n",
    "    # Fine-tune layout\n",
    "    plt.tight_layout()\n",
    "    plt.show()\n",
    "\n",
    "# Create a dropdown menu for selecting the column to plot\n",
    "dropdown_columns = widgets.Dropdown(\n",
    "    options=[col for col in cancer_dataset_reset.columns if col not in ['ID', 'Diagnosis']],\n",
    "    description='Column:',\n",
    "    disabled=False,\n",
    ")\n",
    "\n",
    "# Display the dropdown and plot the selected column\n",
    "_ =widgets.interact(plot_column, column=dropdown_columns)"
   ]
  },
  {
   "cell_type": "markdown",
   "metadata": {},
   "source": [
    "ASSIGNMENT QUESTION:\n",
    "- Please answer questions 19 and 20 in the assignment.\n",
    "\n",
    "DISCUSSION QUESTION:\n",
    "- What differentiates the distributions where the Student's t-test p-value is similar to the Welch's t-test p-value from the distributions where the p-values are very different?\n",
    "- One of the t-test p-values is consistently lower than the other t-test p-values in this dataset. Which test yields the lower p-values and why?"
   ]
  },
  {
   "cell_type": "markdown",
   "metadata": {},
   "source": [
    "### Sample size and p-hacking"
   ]
  },
  {
   "cell_type": "markdown",
   "metadata": {},
   "source": [
    "So we've compared the data based on all of the available data, but what if we were limited in the samples that we were able to collect? We will consider what happens to our comparisons and tests if we are only able to see a subsample of the available data. There are multiple things to consider here but there are two main ideas that drive the concept of _p_-hacking. \n",
    "\n",
    "  1) Intuitively, more samples give you more information about your population. \n",
    "  \n",
    "  2) More samples also reduce your p-values, potentially assigning \"significance\" to a potentially trivial effect.\n",
    "\n",
    "The code below prepares an interactive visualization where you can select a nuclear characteristic and a sample size. The code randomly samples the selected number of samples from each population and displays the resulting distributions and Student's and Welch's t-test p-values. Explore sample size to gain an intuition for how changing sample size affects distributions and t-test p-values."
   ]
  },
  {
   "cell_type": "code",
   "execution_count": null,
   "metadata": {},
   "outputs": [],
   "source": [
    "cancer_dataset_reset = cancer_dataset.reset_index()\n",
    "cancer_dataset_reset.columns = ['ID', 'Diagnosis'] + list(cancer_dataset_reset.columns[2:])\n",
    "\n",
    "def plot_column(column, n_samples):\n",
    "    # Define colors for consistent use in plots\n",
    "    colors = {'B': 'skyblue', 'M': 'salmon'}\n",
    "    \n",
    "    # Sample n datapoints from the full dataset\n",
    "    sampled_data = cancer_dataset_reset.sample(n=n_samples, random_state=42)\n",
    "    \n",
    "    # Setup the figure and axes for the two plots\n",
    "    fig, axes = plt.subplots(2, 1, figsize=(8, 6), sharex=True, gridspec_kw={'height_ratios': [2, 1]})\n",
    "    \n",
    "    # Plot probability density functions on the first subplot for the sampled data\n",
    "    for diagnosis in ['M', 'B']:\n",
    "        subset = sampled_data[sampled_data['Diagnosis'] == diagnosis]\n",
    "        sns.kdeplot(data=subset, x=column, ax=axes[0], fill=True, alpha=0.5, linewidth=2, label=diagnosis, color=colors[diagnosis])\n",
    "    axes[0].legend(['Malignant', 'Benign'])\n",
    "    axes[0].set_title(f'Probability Density of {column} (Sampled Data)')\n",
    "    \n",
    "    # Perform Student's t-test for the sampled data\n",
    "    t_statistic_student, p_value_student = stats.ttest_ind(\n",
    "        sampled_data[sampled_data['Diagnosis'] == 'M'][column],\n",
    "        sampled_data[sampled_data['Diagnosis'] == 'B'][column],\n",
    "        equal_var=True\n",
    "    )\n",
    "    \n",
    "    # Perform Welch's t-test for the sampled data\n",
    "    t_statistic_welch, p_value_welch = stats.ttest_ind(\n",
    "        sampled_data[sampled_data['Diagnosis'] == 'M'][column],\n",
    "        sampled_data[sampled_data['Diagnosis'] == 'B'][column],\n",
    "        equal_var=False\n",
    "    )\n",
    "    \n",
    "    # Plot boxplot\n",
    "    sns.boxplot(y='Diagnosis', x=column, hue='Diagnosis', data=cancer_dataset_reset, orient='h', ax=axes[1], palette=colors, dodge=False)\n",
    "    axes[1].set_title(f'Box Plot of {column} by Diagnosis')\n",
    "    # Plot the mean as a black diamond ('D')\n",
    "    ordered_diagnoses = ['M', 'B'] \n",
    "    means = cancer_dataset_reset.groupby('Diagnosis')[column].mean().reindex(ordered_diagnoses)\n",
    "    for diagnosis, mean in means.items():\n",
    "        y_pos = ordered_diagnoses.index(diagnosis)\n",
    "        plt.plot(mean, y_pos, 'D', color='black', markersize=3)\n",
    "    \n",
    "    # Display p-values at the bottom of the plot\n",
    "    p_value_text = f\"Student's t-test p-value: {p_value_student:.3e}\\nWelch's t-test p-value: {p_value_welch:.3e}\"\n",
    "    plt.figtext(0.5, -0.05, p_value_text, fontsize=10, ha='center', va='center', bbox=dict(facecolor='lightgray', alpha=0.5))\n",
    "    \n",
    "    # Fine-tune layout\n",
    "    plt.tight_layout()\n",
    "    plt.show()\n",
    "\n",
    "# Create a dropdown menu for selecting the column to plot\n",
    "dropdown_columns = widgets.Dropdown(\n",
    "    options=[col for col in cancer_dataset.columns if col not in ['ID', 'Diagnosis']],\n",
    "    description='Column:',\n",
    "    disabled=False,\n",
    ")\n",
    "\n",
    "# Create a slider for selecting the number of data points (n) to sample\n",
    "n_slider = widgets.IntSlider(value=30, min=10, max=len(cancer_dataset), step=1, description='Sample Size:', disabled=False)\n",
    "\n",
    "# Display the dropdown, slider, and plot the selected column with sampled data\n",
    "_ = widgets.interact(plot_column, column=dropdown_columns, n_samples=n_slider)"
   ]
  },
  {
   "cell_type": "markdown",
   "metadata": {},
   "source": [
    "ASSIGNMENT QUESTION\n",
    "- Please answer question 21 in the assignment.\n",
    "\n",
    "DISCUSSION QUESTION\n",
    "- Why does increasing sample size affect the p-value?"
   ]
  },
  {
   "cell_type": "markdown",
   "metadata": {},
   "source": [
    "### P-Values and Correlation\n",
    "\n",
    "P-values are also calculated for correlation coefficients. The code below generates an interactive visualization where you can plot two nuclear features against each other and calculate the spearman and pearson correlation coefficients for each. Explore the data to see which features seem correlated and which do not. Observe the calculated correlation coefficients and the resulting p-values."
   ]
  },
  {
   "cell_type": "code",
   "execution_count": null,
   "metadata": {},
   "outputs": [],
   "source": [
    "def plot_correlation(feature1, feature2):\n",
    "    # Calculate Pearson correlation coefficient and its p-value\n",
    "    pearson_corr, pearson_p_value = stats.pearsonr(cancer_dataset[feature1], cancer_dataset[feature2])\n",
    "    \n",
    "    # Calculate Spearman correlation coefficient and its p-value\n",
    "    spearman_corr, spearman_p_value = stats.spearmanr(cancer_dataset[feature1], cancer_dataset[feature2])\n",
    "    \n",
    "    # Plot the scatter plot\n",
    "    plt.figure(figsize=(8, 6))\n",
    "    sns.scatterplot(data=cancer_dataset, x=feature1, y=feature2)\n",
    "    plt.title(f'{feature1} vs {feature2}')\n",
    "    plt.xlabel(feature1)\n",
    "    plt.ylabel(feature2)\n",
    "    \n",
    "    # Display correlation coefficients and p-values\n",
    "    plt.text(1.02, 0.5, f'Pearson Correlation: {pearson_corr:.3f}\\n(P-value: {pearson_p_value:.3e})', transform=plt.gca().transAxes, fontsize=12, va='center', ha='left')\n",
    "    plt.text(1.02, 0.4, f'Spearman Correlation: {spearman_corr:.3f}\\n(P-value: {spearman_p_value:.3e})', transform=plt.gca().transAxes, fontsize=12, va='center', ha='left')\n",
    "    \n",
    "    plt.show()\n",
    "\n",
    "# Create dropdown menus for selecting the features\n",
    "feature1_dropdown = widgets.Dropdown(options=cancer_dataset.columns, description='Feature 1:')\n",
    "feature2_dropdown = widgets.Dropdown(options=cancer_dataset.columns, description='Feature 2:')\n",
    "\n",
    "# Display dropdown menus and plot the selected features against each other\n",
    "_ = widgets.interact(plot_correlation, feature1=feature1_dropdown, feature2=feature2_dropdown)"
   ]
  },
  {
   "cell_type": "markdown",
   "metadata": {},
   "source": [
    "ASSIGNMENT QUESTION:\n",
    "- Please answer assignment question 22"
   ]
  },
  {
   "cell_type": "markdown",
   "metadata": {},
   "source": [
    "DISCUSSION QUESTION:\n",
    "- Does anything about these p values surprise you?"
   ]
  },
  {
   "cell_type": "markdown",
   "metadata": {},
   "source": [
    "### XKCD Comic Aside:\n",
    "\n",
    "Run the code below to see a very relevant XKCD comic! [source](https://www.explainxkcd.com/wiki/index.php/882:_Significant)"
   ]
  },
  {
   "cell_type": "code",
   "execution_count": null,
   "metadata": {},
   "outputs": [],
   "source": [
    "from IPython import display\n",
    "display.Image(\"xkcd_jelly_beans.png\")"
   ]
  },
  {
   "cell_type": "markdown",
   "metadata": {},
   "source": [
    "DISCUSSION QUESTION:\n",
    "- How many different colors of jelly beans did the scientists need to test in order to find a color the correlated significantly with acne? Why did it take that many colors to find a significant correlation?"
   ]
  },
  {
   "cell_type": "markdown",
   "metadata": {},
   "source": [
    "ASSIGNMENT QUESTION\n",
    "- Please answer assignment question 23"
   ]
  },
  {
   "cell_type": "markdown",
   "metadata": {},
   "source": []
  }
 ],
 "metadata": {
  "kernelspec": {
   "display_name": "Python 3",
   "language": "python",
   "name": "python3"
  },
  "language_info": {
   "codemirror_mode": {
    "name": "ipython",
    "version": 3
   },
   "file_extension": ".py",
   "mimetype": "text/x-python",
   "name": "python",
   "nbconvert_exporter": "python",
   "pygments_lexer": "ipython3",
   "version": "3.12.0"
  }
 },
 "nbformat": 4,
 "nbformat_minor": 2
}
