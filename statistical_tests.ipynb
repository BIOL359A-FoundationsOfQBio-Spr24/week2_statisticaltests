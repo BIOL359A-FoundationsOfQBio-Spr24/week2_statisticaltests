{
 "cells": [
  {
   "cell_type": "markdown",
   "metadata": {},
   "source": [
    "# Biol 359A | Statistical tests and comparing data\n",
    "\n",
    "### Spring 2024, Week 2\n",
    "\n",
    "Objectives:\n",
    "- Run and interpret a t-test\n",
    "- Understand p-values and common pitfalls\n",
    "- Gain intuition about statistical tests and sample sizes"
   ]
  },
  {
   "cell_type": "markdown",
   "metadata": {},
   "source": [
    "### Import statements"
   ]
  },
  {
   "cell_type": "markdown",
   "metadata": {},
   "source": [
    "The packages used are as follows\n",
    "- `pandas` provides dataframes for data storage and manipulation\n",
    "- `ipywidgets` provides dynamic notebook widgets (like sliders)\n",
    "- `scipy` us a general scientific computing package\n",
    "- `numpy` is a general math/matrices package\n",
    "- `matplotlib` Provides data visualization functionality\n",
    "- `seaborn`: Data exploration visualization tool"
   ]
  },
  {
   "cell_type": "code",
   "execution_count": 10,
   "metadata": {},
   "outputs": [],
   "source": [
    "import pandas as pd\n",
    "import numpy as np\n",
    "import matplotlib.pyplot as plt\n",
    "import ipywidgets as widgets\n",
    "import scipy.stats as stats\n",
    "import seaborn as sns"
   ]
  },
  {
   "cell_type": "markdown",
   "metadata": {},
   "source": [
    "ASSIGNMENT QUESTION:\n",
    "- What is the name of someone in your group? If they could have any animal or mythical creature as a pet or friend, what would it be?"
   ]
  },
  {
   "cell_type": "markdown",
   "metadata": {},
   "source": [
    "### Hypothesis Testing Overview:\n",
    "\n",
    "Hypothesis testing is a method used to decide whether there is enough evidence to reject the null hypothesis.\n",
    "\n",
    "### Key Concepts and Steps:\n",
    "\n",
    "1. **Null Hypothesis ($H_0$):** This is our starting assumption, which typically suggests no effect or no difference. In mathematical terms, we might express it as $H_0: \\bar{X} = \\mu$, where $\\bar{X}$ is the sample mean, and $\\mu$ is the population mean we're comparing to. The null hypothesis is what you'd expect by default, without new evidence.\n",
    "\n",
    "2. **Alternative Hypothesis ($H_a$):** This represents the alternative belief, essentially what we suspect might be true instead of the null hypothesis. It's expressed as $H_A: \\bar{X} \\neq \\mu$ for a two-sided test, or $H_A: \\bar{X} > \\mu$ or $H_A: \\bar{X} < \\mu$ for one-sided tests. This hypothesis suggests there is an effect or a difference.\n",
    "\n",
    "3. **Test Statistic:** A test statistic is a value calculated from the sample data, used to decide whether to reject the null hypothesis. It's formulated based on our hypotheses. For a mean difference test with unknown variance, it's often a _t-statistic_ given by:\n",
    "\n",
    "    $$t = \\frac{\\bar{X} - \\mu}{s_x/\\sqrt{n}}$$\n",
    "\n",
    "    where $s_x$ is the sample standard deviation, and $n$ is the sample size. This statistic measures how far our sample mean $\\bar{X}$ is from the population mean $\\mu$, scaled by the variability of the sample. The test assumes that the two distributions have the same variance and follows a normal distribution.\n",
    "\n",
    "4. **Null Distribution:** This is the probability distribution of the test statistic under the assumption that the null hypothesis is true. For the _t-statistic_, this would be the _t-distribution_. The null distribution helps us understand what values of the test statistic are likely if the null hypothesis holds. When \\($H_0$\\) is true, the mean of the _t-distribution_ is 0.\n",
    "\n",
    "5. **P-value:** The p-value is the probability of observing a test statistic as extreme as, or more extreme than, the observed result, under the assumption that the null hypothesis is true. It quantifies how unusual our data is if $H_0$ were true. A low p-value indicates that such data would be very unlikely under the null hypothesis, suggesting evidence against $H_0$.\n",
    "\n",
    "6. **Significance Level (α):** Before conducting the test, we choose a significance level (often 0.05), which is the threshold used to decide whether the p-value is low enough to reject the null hypothesis. If the p-value is less than $\\alpha$, we reject $H_0$, concluding that our results are statistically significant.\n"
   ]
  },
  {
   "cell_type": "markdown",
   "metadata": {},
   "source": [
    "DISCUSSION QUESTION\n",
    "- What is a mean difference test?"
   ]
  },
  {
   "cell_type": "markdown",
   "metadata": {},
   "source": [
    "## Exploring real data"
   ]
  },
  {
   "cell_type": "markdown",
   "metadata": {},
   "source": [
    "For today's lesson we will be working on real breast cancer data from the[ Wisconsin Diagnostic Breast Cancer Database (WDBC)](https://archive.ics.uci.edu/dataset/17/breast+cancer+wisconsin+diagnostic).\n",
    "\n",
    "Here is a summary of the data from the data source:\n",
    "```\n",
    "\tFeatures are computed from a digitized image of a fine needle\n",
    "\taspirate (FNA) of a breast mass.  They describe\n",
    "\tcharacteristics of the cell nuclei present in the image.\n",
    "\tA few of the images can be found at\n",
    "\thttp://www.cs.wisc.edu/~street/images/\n",
    "\n",
    "\tSeparating plane described above was obtained using\n",
    "\tMultisurface Method-Tree (MSM-T) [K. P. Bennett, \"Decision Tree\n",
    "\tConstruction Via Linear Programming.\" Proceedings of the 4th\n",
    "\tMidwest Artificial Intelligence and Cognitive Science Society,\n",
    "\tpp. 97-101, 1992], a classification method which uses linear\n",
    "\tprogramming to construct a decision tree.  Relevant features\n",
    "\twere selected using an exhaustive search in the space of 1-4\n",
    "\tfeatures and 1-3 separating planes.\n",
    "\n",
    "\tThe actual linear program used to obtain the separating plane\n",
    "\tin the 3-dimensional space is that described in:\n",
    "\t[K. P. Bennett and O. L. Mangasarian: \"Robust Linear\n",
    "\tProgramming Discrimination of Two Linearly Inseparable Sets\",\n",
    "\tOptimization Methods and Software 1, 1992, 23-34].\n",
    "\n",
    "\tThis database is also available through the UW CS ftp server:\n",
    "\tftp ftp.cs.wisc.edu\n",
    "\tcd math-prog/cpo-dataset/machine-learn/WDBC/\n",
    "    \n",
    "    Source:\n",
    "    W.N. Street, W.H. Wolberg and O.L. Mangasarian \n",
    "\tNuclear feature extraction for breast tumor diagnosis.\n",
    "\tIS&T/SPIE 1993 International Symposium on Electronic Imaging: Science\n",
    "\tand Technology, volume 1905, pages 861-870, San Jose, CA, 1993.\n",
    "```\n",
    "\n",
    "What do all the column names mean?\n",
    "\n",
    "- ID number\n",
    "- Diagnosis (M = malignant, B = benign)\n",
    "\n",
    "Ten real-valued features are computed for each cell nucleus:\n",
    "\n",
    "- radius (mean of distances from center to points on the perimeter)\n",
    "- texture (standard deviation of gray-scale values)\n",
    "- perimeter\n",
    "- area\n",
    "- smoothness (local variation in radius lengths)\n",
    "- compactness (perimeter^2 / area - 1.0)\n",
    "- concavity (severity of concave portions of the contour)\n",
    "- concave points (number of concave portions of the contour)\n",
    "- symmetry \n",
    "- fractal dimension (\"coastline approximation\" - 1) - a measure of \"complexity\" of a 2D image.\n",
    "\n",
    "\n",
    "Cateogory Distribution: 357 benign, 212 malignant"
   ]
  },
  {
   "cell_type": "markdown",
   "metadata": {},
   "source": [
    "We will import and clean these data using another python script called clean_data.py. That script loads the data into a pandas dataframe and removes part of the dataset we will not be using:"
   ]
  },
  {
   "cell_type": "code",
   "execution_count": 4,
   "metadata": {},
   "outputs": [
    {
     "data": {
      "text/html": [
       "<div>\n",
       "<style scoped>\n",
       "    .dataframe tbody tr th:only-of-type {\n",
       "        vertical-align: middle;\n",
       "    }\n",
       "\n",
       "    .dataframe tbody tr th {\n",
       "        vertical-align: top;\n",
       "    }\n",
       "\n",
       "    .dataframe thead th {\n",
       "        text-align: right;\n",
       "    }\n",
       "</style>\n",
       "<table border=\"1\" class=\"dataframe\">\n",
       "  <thead>\n",
       "    <tr style=\"text-align: right;\">\n",
       "      <th></th>\n",
       "      <th></th>\n",
       "      <th>mean_radius</th>\n",
       "      <th>mean_texture</th>\n",
       "      <th>mean_perimeter</th>\n",
       "      <th>mean_area</th>\n",
       "      <th>mean_smoothness</th>\n",
       "      <th>mean_compactness</th>\n",
       "      <th>mean_concavity</th>\n",
       "      <th>mean_concave_points</th>\n",
       "      <th>mean_symmetry</th>\n",
       "      <th>mean_fractal_dimension</th>\n",
       "    </tr>\n",
       "    <tr>\n",
       "      <th>ID</th>\n",
       "      <th>diagnosis</th>\n",
       "      <th></th>\n",
       "      <th></th>\n",
       "      <th></th>\n",
       "      <th></th>\n",
       "      <th></th>\n",
       "      <th></th>\n",
       "      <th></th>\n",
       "      <th></th>\n",
       "      <th></th>\n",
       "      <th></th>\n",
       "    </tr>\n",
       "  </thead>\n",
       "  <tbody>\n",
       "    <tr>\n",
       "      <th>842302</th>\n",
       "      <th>M</th>\n",
       "      <td>17.99</td>\n",
       "      <td>10.38</td>\n",
       "      <td>122.80</td>\n",
       "      <td>1001.0</td>\n",
       "      <td>0.11840</td>\n",
       "      <td>0.27760</td>\n",
       "      <td>0.30010</td>\n",
       "      <td>0.14710</td>\n",
       "      <td>0.2419</td>\n",
       "      <td>0.07871</td>\n",
       "    </tr>\n",
       "    <tr>\n",
       "      <th>842517</th>\n",
       "      <th>M</th>\n",
       "      <td>20.57</td>\n",
       "      <td>17.77</td>\n",
       "      <td>132.90</td>\n",
       "      <td>1326.0</td>\n",
       "      <td>0.08474</td>\n",
       "      <td>0.07864</td>\n",
       "      <td>0.08690</td>\n",
       "      <td>0.07017</td>\n",
       "      <td>0.1812</td>\n",
       "      <td>0.05667</td>\n",
       "    </tr>\n",
       "    <tr>\n",
       "      <th>84300903</th>\n",
       "      <th>M</th>\n",
       "      <td>19.69</td>\n",
       "      <td>21.25</td>\n",
       "      <td>130.00</td>\n",
       "      <td>1203.0</td>\n",
       "      <td>0.10960</td>\n",
       "      <td>0.15990</td>\n",
       "      <td>0.19740</td>\n",
       "      <td>0.12790</td>\n",
       "      <td>0.2069</td>\n",
       "      <td>0.05999</td>\n",
       "    </tr>\n",
       "    <tr>\n",
       "      <th>84348301</th>\n",
       "      <th>M</th>\n",
       "      <td>11.42</td>\n",
       "      <td>20.38</td>\n",
       "      <td>77.58</td>\n",
       "      <td>386.1</td>\n",
       "      <td>0.14250</td>\n",
       "      <td>0.28390</td>\n",
       "      <td>0.24140</td>\n",
       "      <td>0.10520</td>\n",
       "      <td>0.2597</td>\n",
       "      <td>0.09744</td>\n",
       "    </tr>\n",
       "    <tr>\n",
       "      <th>84358402</th>\n",
       "      <th>M</th>\n",
       "      <td>20.29</td>\n",
       "      <td>14.34</td>\n",
       "      <td>135.10</td>\n",
       "      <td>1297.0</td>\n",
       "      <td>0.10030</td>\n",
       "      <td>0.13280</td>\n",
       "      <td>0.19800</td>\n",
       "      <td>0.10430</td>\n",
       "      <td>0.1809</td>\n",
       "      <td>0.05883</td>\n",
       "    </tr>\n",
       "    <tr>\n",
       "      <th>...</th>\n",
       "      <th>...</th>\n",
       "      <td>...</td>\n",
       "      <td>...</td>\n",
       "      <td>...</td>\n",
       "      <td>...</td>\n",
       "      <td>...</td>\n",
       "      <td>...</td>\n",
       "      <td>...</td>\n",
       "      <td>...</td>\n",
       "      <td>...</td>\n",
       "      <td>...</td>\n",
       "    </tr>\n",
       "    <tr>\n",
       "      <th>926424</th>\n",
       "      <th>M</th>\n",
       "      <td>21.56</td>\n",
       "      <td>22.39</td>\n",
       "      <td>142.00</td>\n",
       "      <td>1479.0</td>\n",
       "      <td>0.11100</td>\n",
       "      <td>0.11590</td>\n",
       "      <td>0.24390</td>\n",
       "      <td>0.13890</td>\n",
       "      <td>0.1726</td>\n",
       "      <td>0.05623</td>\n",
       "    </tr>\n",
       "    <tr>\n",
       "      <th>926682</th>\n",
       "      <th>M</th>\n",
       "      <td>20.13</td>\n",
       "      <td>28.25</td>\n",
       "      <td>131.20</td>\n",
       "      <td>1261.0</td>\n",
       "      <td>0.09780</td>\n",
       "      <td>0.10340</td>\n",
       "      <td>0.14400</td>\n",
       "      <td>0.09791</td>\n",
       "      <td>0.1752</td>\n",
       "      <td>0.05533</td>\n",
       "    </tr>\n",
       "    <tr>\n",
       "      <th>926954</th>\n",
       "      <th>M</th>\n",
       "      <td>16.60</td>\n",
       "      <td>28.08</td>\n",
       "      <td>108.30</td>\n",
       "      <td>858.1</td>\n",
       "      <td>0.08455</td>\n",
       "      <td>0.10230</td>\n",
       "      <td>0.09251</td>\n",
       "      <td>0.05302</td>\n",
       "      <td>0.1590</td>\n",
       "      <td>0.05648</td>\n",
       "    </tr>\n",
       "    <tr>\n",
       "      <th>927241</th>\n",
       "      <th>M</th>\n",
       "      <td>20.60</td>\n",
       "      <td>29.33</td>\n",
       "      <td>140.10</td>\n",
       "      <td>1265.0</td>\n",
       "      <td>0.11780</td>\n",
       "      <td>0.27700</td>\n",
       "      <td>0.35140</td>\n",
       "      <td>0.15200</td>\n",
       "      <td>0.2397</td>\n",
       "      <td>0.07016</td>\n",
       "    </tr>\n",
       "    <tr>\n",
       "      <th>92751</th>\n",
       "      <th>B</th>\n",
       "      <td>7.76</td>\n",
       "      <td>24.54</td>\n",
       "      <td>47.92</td>\n",
       "      <td>181.0</td>\n",
       "      <td>0.05263</td>\n",
       "      <td>0.04362</td>\n",
       "      <td>0.00000</td>\n",
       "      <td>0.00000</td>\n",
       "      <td>0.1587</td>\n",
       "      <td>0.05884</td>\n",
       "    </tr>\n",
       "  </tbody>\n",
       "</table>\n",
       "<p>569 rows × 10 columns</p>\n",
       "</div>"
      ],
      "text/plain": [
       "                    mean_radius  mean_texture  mean_perimeter  mean_area  \\\n",
       "ID       diagnosis                                                         \n",
       "842302   M                17.99         10.38          122.80     1001.0   \n",
       "842517   M                20.57         17.77          132.90     1326.0   \n",
       "84300903 M                19.69         21.25          130.00     1203.0   \n",
       "84348301 M                11.42         20.38           77.58      386.1   \n",
       "84358402 M                20.29         14.34          135.10     1297.0   \n",
       "...                         ...           ...             ...        ...   \n",
       "926424   M                21.56         22.39          142.00     1479.0   \n",
       "926682   M                20.13         28.25          131.20     1261.0   \n",
       "926954   M                16.60         28.08          108.30      858.1   \n",
       "927241   M                20.60         29.33          140.10     1265.0   \n",
       "92751    B                 7.76         24.54           47.92      181.0   \n",
       "\n",
       "                    mean_smoothness  mean_compactness  mean_concavity  \\\n",
       "ID       diagnosis                                                      \n",
       "842302   M                  0.11840           0.27760         0.30010   \n",
       "842517   M                  0.08474           0.07864         0.08690   \n",
       "84300903 M                  0.10960           0.15990         0.19740   \n",
       "84348301 M                  0.14250           0.28390         0.24140   \n",
       "84358402 M                  0.10030           0.13280         0.19800   \n",
       "...                             ...               ...             ...   \n",
       "926424   M                  0.11100           0.11590         0.24390   \n",
       "926682   M                  0.09780           0.10340         0.14400   \n",
       "926954   M                  0.08455           0.10230         0.09251   \n",
       "927241   M                  0.11780           0.27700         0.35140   \n",
       "92751    B                  0.05263           0.04362         0.00000   \n",
       "\n",
       "                    mean_concave_points  mean_symmetry  mean_fractal_dimension  \n",
       "ID       diagnosis                                                              \n",
       "842302   M                      0.14710         0.2419                 0.07871  \n",
       "842517   M                      0.07017         0.1812                 0.05667  \n",
       "84300903 M                      0.12790         0.2069                 0.05999  \n",
       "84348301 M                      0.10520         0.2597                 0.09744  \n",
       "84358402 M                      0.10430         0.1809                 0.05883  \n",
       "...                                 ...            ...                     ...  \n",
       "926424   M                      0.13890         0.1726                 0.05623  \n",
       "926682   M                      0.09791         0.1752                 0.05533  \n",
       "926954   M                      0.05302         0.1590                 0.05648  \n",
       "927241   M                      0.15200         0.2397                 0.07016  \n",
       "92751    B                      0.00000         0.1587                 0.05884  \n",
       "\n",
       "[569 rows x 10 columns]"
      ]
     },
     "execution_count": 4,
     "metadata": {},
     "output_type": "execute_result"
    }
   ],
   "source": [
    "import clean_data\n",
    "\n",
    "cancer_dataset = clean_data.generate_clean_dataframe()\n",
    "cancer_dataset"
   ]
  },
  {
   "cell_type": "code",
   "execution_count": 25,
   "metadata": {},
   "outputs": [
    {
     "data": {
      "text/plain": [
       "MultiIndex([(  842302, 'M'),\n",
       "            (  842517, 'M'),\n",
       "            (84300903, 'M'),\n",
       "            (84348301, 'M'),\n",
       "            (84358402, 'M'),\n",
       "            (  843786, 'M'),\n",
       "            (  844359, 'M'),\n",
       "            (84458202, 'M'),\n",
       "            (  844981, 'M'),\n",
       "            (84501001, 'M'),\n",
       "            ...\n",
       "            (  925291, 'B'),\n",
       "            (  925292, 'B'),\n",
       "            (  925311, 'B'),\n",
       "            (  925622, 'M'),\n",
       "            (  926125, 'M'),\n",
       "            (  926424, 'M'),\n",
       "            (  926682, 'M'),\n",
       "            (  926954, 'M'),\n",
       "            (  927241, 'M'),\n",
       "            (   92751, 'B')],\n",
       "           names=['ID', 'diagnosis'], length=569)"
      ]
     },
     "execution_count": 25,
     "metadata": {},
     "output_type": "execute_result"
    }
   ],
   "source": [
    "cancer_dataset.index"
   ]
  },
  {
   "cell_type": "markdown",
   "metadata": {},
   "source": [
    "We can now use pandas dataframe functions to explore the data."
   ]
  },
  {
   "cell_type": "markdown",
   "metadata": {},
   "source": [
    "If we want to show the first five values in some column in the table:"
   ]
  },
  {
   "cell_type": "code",
   "execution_count": 6,
   "metadata": {},
   "outputs": [
    {
     "data": {
      "text/plain": [
       "ID        diagnosis\n",
       "842302    M            1001.0\n",
       "842517    M            1326.0\n",
       "84300903  M            1203.0\n",
       "84348301  M             386.1\n",
       "84358402  M            1297.0\n",
       "Name: mean_area, dtype: float64"
      ]
     },
     "execution_count": 6,
     "metadata": {},
     "output_type": "execute_result"
    }
   ],
   "source": [
    "cancer_dataset[\"mean_area\"].head(5)"
   ]
  },
  {
   "cell_type": "markdown",
   "metadata": {},
   "source": [
    "If we want to show the first five values for each diagnosis category:"
   ]
  },
  {
   "cell_type": "code",
   "execution_count": 7,
   "metadata": {},
   "outputs": [
    {
     "data": {
      "text/plain": [
       "ID        diagnosis\n",
       "842302    M            1001.0\n",
       "842517    M            1326.0\n",
       "84300903  M            1203.0\n",
       "84348301  M             386.1\n",
       "84358402  M            1297.0\n",
       "8510426   B             566.3\n",
       "8510653   B             520.0\n",
       "8510824   B             273.9\n",
       "854941    B             523.8\n",
       "85713702  B             201.9\n",
       "Name: mean_area, dtype: float64"
      ]
     },
     "execution_count": 7,
     "metadata": {},
     "output_type": "execute_result"
    }
   ],
   "source": [
    "cancer_dataset[\"mean_area\"].groupby(\"diagnosis\").head(5)"
   ]
  },
  {
   "cell_type": "markdown",
   "metadata": {},
   "source": [
    "We can use the `pandas` package for calculating summary statistics:"
   ]
  },
  {
   "cell_type": "code",
   "execution_count": 8,
   "metadata": {},
   "outputs": [
    {
     "data": {
      "text/plain": [
       "count     569.000000\n",
       "mean      654.889104\n",
       "std       351.914129\n",
       "min       143.500000\n",
       "25%       420.300000\n",
       "50%       551.100000\n",
       "75%       782.700000\n",
       "max      2501.000000\n",
       "Name: mean_area, dtype: float64"
      ]
     },
     "execution_count": 8,
     "metadata": {},
     "output_type": "execute_result"
    }
   ],
   "source": [
    "cancer_dataset[\"mean_area\"].describe()"
   ]
  },
  {
   "cell_type": "markdown",
   "metadata": {},
   "source": [
    "## Formulating hypotheses"
   ]
  },
  {
   "cell_type": "markdown",
   "metadata": {},
   "source": [
    "To further our understanding of cancer, we aim to identify which characteristics of cell nuclei differ significantly between cancerous (malignant) and healthy (benign) tissue. Insight into these distinctions not only holds potential for enhancing diagnostic techniques but also for generating hypotheses regarding the onset and advancement of cancer.\n",
    "\n",
    "The following Python code generates box plots to compare the distributions of various measured nuclear characteristics between malignant and benign cells. Box plots are invaluable for such comparisons because they succinctly summarize data distributions. Here's a brief guide to understanding the components of a box plot:\n",
    "\n",
    "- The Box: Represents the interquartile range (IQR), capturing the middle 50 percent of the data. The bottom and top of the box mark the first (Q1) and third (Q3) quartiles, respectively, and the line inside the box identifies the median.\n",
    "- The Whiskers: Extend from the box to show the range of the data, adjusted for potential outliers. Typically, they span from Q1 - 1.5IQR to Q3 + 1.5IQR.\n",
    "- Outliers: Often depicted as diamonds, these points lie outside the range covered by the whiskers, indicating data points that are unusually high or low.\n",
    "- The Verical Line: Represents the mean of the data, providing a point of central tendency.\n",
    "\n",
    "By selecting different characteristics from the dropdown menu, you can explore the distribution of data for each nuclear characteristic across malignant and benign cells. This visual exploration can reveal how certain nuclear features vary between cancerous and non-cancerous cells, potentially highlighting factors critical to the diagnosis or understanding of cancer."
   ]
  },
  {
   "cell_type": "code",
   "execution_count": 29,
   "metadata": {},
   "outputs": [
    {
     "data": {
      "application/vnd.jupyter.widget-view+json": {
       "model_id": "6f9b85159d204506a4336e0450464d4f",
       "version_major": 2,
       "version_minor": 0
      },
      "text/plain": [
       "interactive(children=(Dropdown(description='Column:', options=('mean_radius', 'mean_texture', 'mean_perimeter'…"
      ]
     },
     "metadata": {},
     "output_type": "display_data"
    },
    {
     "data": {
      "text/plain": [
       "<function __main__.plot_column(column)>"
      ]
     },
     "execution_count": 29,
     "metadata": {},
     "output_type": "execute_result"
    }
   ],
   "source": [
    "cancer_dataset_reset = cancer_dataset.reset_index()\n",
    "cancer_dataset_reset.columns = ['ID', 'Diagnosis'] + list(cancer_dataset_reset.columns[2:])\n",
    "\n",
    "# Function to plot the selected column\n",
    "def plot_column(column):\n",
    "    # Calculate summary statistics for each diagnosis\n",
    "    stats_df = cancer_dataset_reset.groupby('Diagnosis')[column].describe()\n",
    "    \n",
    "    # Plotting\n",
    "    plt.figure(figsize=(10, 8))\n",
    "    \n",
    "    # Plot boxplot\n",
    "    sns.boxplot(y='Diagnosis', x=column, data=cancer_dataset_reset, orient='h')\n",
    "    plt.title(f'Box plot of {column} by Diagnosis')\n",
    "    plt.ylabel('Diagnosis')\n",
    "    plt.xlabel(column)\n",
    "    \n",
    "    # Display summary statistics table above the boxplot\n",
    "    table_ax = plt.table(cellText=stats_df.round(2).values,\n",
    "                         colLabels=stats_df.columns,\n",
    "                         rowLabels=stats_df.index,\n",
    "                         cellLoc = 'center', rowLoc = 'center',\n",
    "                         loc='bottom', bbox=[0, -0.5, 1, 0.3])\n",
    "    plt.subplots_adjust(left=0.2, bottom=0.2)\n",
    "    \n",
    "    plt.show()\n",
    "\n",
    "# Create a dropdown menu for selecting the column to plot\n",
    "dropdown_columns = widgets.Dropdown(\n",
    "    options=[col for col in cancer_dataset_reset.columns if col not in ['ID', 'Diagnosis']],\n",
    "    description='Column:',\n",
    "    disabled=False,\n",
    ")\n",
    "\n",
    "# Display the dropdown and plot the selected column\n",
    "widgets.interact(plot_column, column=dropdown_columns)\n"
   ]
  },
  {
   "cell_type": "code",
   "execution_count": null,
   "metadata": {},
   "outputs": [],
   "source": []
  }
 ],
 "metadata": {
  "kernelspec": {
   "display_name": "Python 3",
   "language": "python",
   "name": "python3"
  },
  "language_info": {
   "codemirror_mode": {
    "name": "ipython",
    "version": 3
   },
   "file_extension": ".py",
   "mimetype": "text/x-python",
   "name": "python",
   "nbconvert_exporter": "python",
   "pygments_lexer": "ipython3",
   "version": "3.12.0"
  }
 },
 "nbformat": 4,
 "nbformat_minor": 2
}
